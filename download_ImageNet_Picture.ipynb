{
 "cells": [
  {
   "cell_type": "markdown",
   "metadata": {},
   "source": [
    "tutorial -       \n",
    "https://medium.com/coinmonks/how-to-get-images-from-imagenet-with-python-in-google-colaboratory-aeef5c1c45e5\n",
    "\n",
    "kaggle        \n",
    "https://www.kaggle.com/twaldo/kitti-object-detection"
   ]
  },
  {
   "cell_type": "code",
   "execution_count": null,
   "metadata": {
    "collapsed": true
   },
   "outputs": [],
   "source": [
    "Ambulance: n02701002\n",
    "Taxi: n02930766\n",
    "Fire truck: n03345487\n",
    "Garbage truck: n03417042\n",
    "Minibus: n03769881\n",
    "Minivan: n03770679\n",
    "Motor scooter: n03791053"
   ]
  },
  {
   "cell_type": "code",
   "execution_count": 1,
   "metadata": {},
   "outputs": [
    {
     "ename": "ImportError",
     "evalue": "No module named 'cv2'",
     "output_type": "error",
     "traceback": [
      "\u001b[1;31m---------------------------------------------------------------------------\u001b[0m",
      "\u001b[1;31mImportError\u001b[0m                               Traceback (most recent call last)",
      "\u001b[1;32m<ipython-input-1-e5742abbb928>\u001b[0m in \u001b[0;36m<module>\u001b[1;34m()\u001b[0m\n\u001b[0;32m      2\u001b[0m \u001b[1;32mimport\u001b[0m \u001b[0mnumpy\u001b[0m \u001b[1;32mas\u001b[0m \u001b[0mnp\u001b[0m\u001b[1;33m\u001b[0m\u001b[0m\n\u001b[0;32m      3\u001b[0m \u001b[1;32mimport\u001b[0m \u001b[0mrequests\u001b[0m\u001b[1;33m\u001b[0m\u001b[0m\n\u001b[1;32m----> 4\u001b[1;33m \u001b[1;32mimport\u001b[0m \u001b[0mcv2\u001b[0m\u001b[1;33m\u001b[0m\u001b[0m\n\u001b[0m\u001b[0;32m      5\u001b[0m \u001b[1;32mimport\u001b[0m \u001b[0mPIL\u001b[0m\u001b[1;33m.\u001b[0m\u001b[0mImage\u001b[0m\u001b[1;33m\u001b[0m\u001b[0m\n\u001b[0;32m      6\u001b[0m \u001b[1;32mimport\u001b[0m \u001b[0murllib\u001b[0m\u001b[1;33m\u001b[0m\u001b[0m\n",
      "\u001b[1;31mImportError\u001b[0m: No module named 'cv2'"
     ]
    }
   ],
   "source": [
    "from bs4 import BeautifulSoup\n",
    "import numpy as np\n",
    "import requests\n",
    "import cv2\n",
    "import PIL.Image\n",
    "import urllib              \n",
    "bikes_page = requests.get(\"http://www.image-net.org/api/text/imagenet.synset.geturls?wnid=n02701002\")#bicycle synset\n",
    "print(bikes_page.content) \n",
    "bikes_soup = BeautifulSoup(bikes_page.content, 'html.parser')#puts the content of the website into the soup variable, each url on a different line"
   ]
  },
  {
   "cell_type": "code",
   "execution_count": 15,
   "metadata": {},
   "outputs": [
    {
     "data": {
      "text/plain": [
       "<Response [200]>"
      ]
     },
     "execution_count": 15,
     "metadata": {},
     "output_type": "execute_result"
    }
   ],
   "source": [
    "bikes_page"
   ]
  },
  {
   "cell_type": "code",
   "execution_count": 3,
   "metadata": {},
   "outputs": [
    {
     "name": "stdout",
     "output_type": "stream",
     "text": [
      "1510\n"
     ]
    }
   ],
   "source": [
    "bikes_str_soup=str(bikes_soup)\n",
    "type(bikes_str_soup) \n",
    "bikes_split_urls=bikes_str_soup.split('\\r\\n')\n",
    "print(len(bikes_split_urls))"
   ]
  },
  {
   "cell_type": "markdown",
   "metadata": {},
   "source": [
    "import os\n",
    "os.mkdir( \"./ImageNet_Pic/train\") #create the Train folder\n",
    "os.mkdir( \"./ImageNet_Pic/train/ships\") \n",
    "os.mkdir( \"./ImageNet_Pic/train/bikes\") \n",
    "os.mkdir( \"./ImageNet_Pic/validation\") \n",
    "os.mkdir( \"./ImageNet_Pic/validation/ships\") \n",
    "os.mkdir( \"./ImageNet_Pic/validation/bikes\") "
   ]
  },
  {
   "cell_type": "markdown",
   "metadata": {},
   "source": [
    "### Correct the images shape, format, and store them on the corresponding directory:\n"
   ]
  },
  {
   "cell_type": "code",
   "execution_count": null,
   "metadata": {
    "collapsed": true
   },
   "outputs": [],
   "source": [
    "from PIL import Image\n",
    "\n",
    "img_rows, img_cols = 32, 32 #number of rows and columns to convert the images to\n",
    "input_shape = (img_rows, img_cols, 3)#format to store the images (rows, columns,channels) called channels last\n",
    "\n",
    "\n",
    "#Training data\n",
    "progress = 1\n",
    "n_of_training_images= len(bikes_split_urls)       #the number of training images to use\n",
    "for i in range(n_of_training_images):#store all the images on a directory\n",
    "    if not bikes_split_urls[progress] == None:\n",
    "        try:\n",
    "            resp = urllib.request.urlopen(bikes_split_urls[progress])\n",
    "            image2array = np.asarray(bytearray(resp.read()), dtype=\"uint8\")\n",
    "            #image = cv2.imdecode(image, cv2.IMREAD_COLOR)\n",
    "            #cv2.imshow('My Image', image)\n",
    "            save_path = \"./ImageNet_Picture/train/ambulance/%06d.jpg\" % progress    #create a name of each image\n",
    "            #cv2.imwrite(save_path,image)\n",
    "            array2image = Image.fromarray(image2array, mode = 'RGB')\n",
    "            array2image.save(\"./ImageNet_Picture/train/ambulance/%06d.jpg\")\n",
    "            progress += 1\n",
    "        except:\n",
    "            None\n",
    "        #array2image = Image.fromarray(image, mode = 'RGB')\n",
    "        #array2image.save(save_path)\n",
    "\n"
   ]
  },
  {
   "cell_type": "code",
   "execution_count": null,
   "metadata": {
    "collapsed": true
   },
   "outputs": [],
   "source": []
  },
  {
   "cell_type": "code",
   "execution_count": 1,
   "metadata": {
    "collapsed": true
   },
   "outputs": [],
   "source": [
    "from PIL import Image\n",
    "import os\n",
    "size = 300\n",
    "\n",
    "for info in os.listdir(r'./scooter'):\n",
    "    image = Image.open('./scooter/'+info)\n",
    "    image = image.resize((size, size), Image.BILINEAR)\n",
    "    image.save('./temp/'+info)"
   ]
  },
  {
   "cell_type": "code",
   "execution_count": null,
   "metadata": {
    "collapsed": true
   },
   "outputs": [],
   "source": []
  }
 ],
 "metadata": {
  "kernelspec": {
   "display_name": "Python 3",
   "language": "python",
   "name": "python3"
  },
  "language_info": {
   "codemirror_mode": {
    "name": "ipython",
    "version": 3
   },
   "file_extension": ".py",
   "mimetype": "text/x-python",
   "name": "python",
   "nbconvert_exporter": "python",
   "pygments_lexer": "ipython3",
   "version": "3.5.5"
  }
 },
 "nbformat": 4,
 "nbformat_minor": 2
}
